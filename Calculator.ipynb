{
 "cells": [
  {
   "cell_type": "code",
   "execution_count": null,
   "id": "eb8b9588-4372-4392-bc4e-d1539cb66b91",
   "metadata": {},
   "outputs": [
    {
     "name": "stdin",
     "output_type": "stream",
     "text": [
      "Enter 1st Number: 12\n",
      "Enter 2nd Number: 23\n"
     ]
    },
    {
     "name": "stdout",
     "output_type": "stream",
     "text": [
      "...Enter your option....\n",
      "1.Addition\n",
      "2.Multiplication\n",
      "3.Subtraction\n",
      "4.Division\n"
     ]
    },
    {
     "name": "stdin",
     "output_type": "stream",
     "text": [
      "choose your option to perform: 1\n"
     ]
    },
    {
     "name": "stdout",
     "output_type": "stream",
     "text": [
      "12+23=35.00\n",
      "...Enter your option....\n",
      "1.Addition\n",
      "2.Multiplication\n",
      "3.Subtraction\n",
      "4.Division\n"
     ]
    }
   ],
   "source": [
    "a=float(input(\"Enter 1st Number:\"))\n",
    "b=float(input(\"Enter 2nd Number:\"))\n",
    "opt=0\n",
    "while opt>=0:\n",
    "    print(\"...Enter your option....\")\n",
    "    print(\"1.Addition\")\n",
    "    print(\"2.Multiplication\")\n",
    "    print(\"3.Subtraction\")\n",
    "    print(\"4.Division\")\n",
    "\n",
    "    opt=int(input(\"choose your option to perform:\"))\n",
    "    if(opt==1):\n",
    "        print(\"%d+%d=%.2f\" %(a,b,(a+b)))\n",
    "    elif(opt==2):\n",
    "        print(\"%d*%d=%.2f\" %(a,b,(a*b)))\n",
    "    elif(opt==3):\n",
    "        print(\"%d-%d=%d\" %(a,b,(a-b)))\n",
    "    elif(opt==4):\n",
    "        if(b==0):\n",
    "            print(\"0 cannot be divided\")\n",
    "        else:\n",
    "            print(\"ans= %d*%d=%.2f\" %(a,b,(a/b)))\n",
    "    else:\n",
    "        print(\"option is invalid and exiting.......\")\n",
    "        break\n"
   ]
  },
  {
   "cell_type": "code",
   "execution_count": null,
   "id": "66cb5164-484b-406f-b54e-adb811fb31c1",
   "metadata": {},
   "outputs": [],
   "source": []
  }
 ],
 "metadata": {
  "kernelspec": {
   "display_name": "Python 3 (ipykernel)",
   "language": "python",
   "name": "python3"
  },
  "language_info": {
   "codemirror_mode": {
    "name": "ipython",
    "version": 3
   },
   "file_extension": ".py",
   "mimetype": "text/x-python",
   "name": "python",
   "nbconvert_exporter": "python",
   "pygments_lexer": "ipython3",
   "version": "3.10.12"
  }
 },
 "nbformat": 4,
 "nbformat_minor": 5
}
