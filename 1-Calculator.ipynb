{
 "cells": [
  {
   "cell_type": "code",
   "execution_count": 2,
   "id": "eb8b9588-4372-4392-bc4e-d1539cb66b91",
   "metadata": {},
   "outputs": [
    {
     "name": "stdin",
     "output_type": "stream",
     "text": [
      "enter first number: 3\n",
      "enter second number: 4\n"
     ]
    },
    {
     "name": "stdout",
     "output_type": "stream",
     "text": [
      "select the operation to perform:\n",
      "1.Addition\n",
      "2.Substraction\n",
      "3.Multiplication\n",
      "4.Division\n"
     ]
    },
    {
     "name": "stdin",
     "output_type": "stream",
     "text": [
      "Enter Choice(1-4): 1\n"
     ]
    },
    {
     "name": "stdout",
     "output_type": "stream",
     "text": [
      "Addition:7.00\n"
     ]
    }
   ],
   "source": [
    "num1=float(input(\"enter first number:\"))\n",
    "num2=float(input(\"enter second number:\"))\n",
    "print(\"select the operation to perform:\")\n",
    "print(\"1.Addition\")\n",
    "print(\"2.Substraction\")\n",
    "print(\"3.Multiplication\")\n",
    "print(\"4.Division\")\n",
    "ch=int(input(\"Enter Choice(1-4):\"))\n",
    "if(ch==1):\n",
    "    print(\"Addition:%.2f\" %(num1+num2))\n",
    "elif(ch==2):\n",
    "    print(\"Substraction:%.2f\" %(num1-num2))\n",
    "elif(ch==3):\n",
    "    print(\"Multiplication::%.2f\" %(num1*num2))\n",
    "elif(ch==4):\n",
    "    if(num2!=0):\n",
    "        print(\"Division:%.2f\" %(num1/num2))\n",
    "    else:\n",
    "        print(\"cannot divisible by zero\")\n",
    "else:\n",
    "    print(\"Invalid!\")"
   ]
  },
  {
   "cell_type": "code",
   "execution_count": null,
   "id": "66cb5164-484b-406f-b54e-adb811fb31c1",
   "metadata": {},
   "outputs": [],
   "source": []
  },
  {
   "cell_type": "code",
   "execution_count": null,
   "id": "503d8b0f-6788-4f4d-bae7-8eeac4afb6d3",
   "metadata": {},
   "outputs": [],
   "source": []
  }
 ],
 "metadata": {
  "kernelspec": {
   "display_name": "Python 3 (ipykernel)",
   "language": "python",
   "name": "python3"
  },
  "language_info": {
   "codemirror_mode": {
    "name": "ipython",
    "version": 3
   },
   "file_extension": ".py",
   "mimetype": "text/x-python",
   "name": "python",
   "nbconvert_exporter": "python",
   "pygments_lexer": "ipython3",
   "version": "3.10.12"
  }
 },
 "nbformat": 4,
 "nbformat_minor": 5
}
