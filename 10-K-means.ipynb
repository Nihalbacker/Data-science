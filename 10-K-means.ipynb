import matplotlib.pyplot as plt
import pandas as pd
 
 
a = pd.read_csv('data2.csv')  
print(a)
x=a.iloc[:,:].values
print(x)
 
# print(x)
 
#no traing test required
from sklearn.cluster import KMeans
kmeans=KMeans(init='k-means++',n_clusters=2,random_state=0).fit(x)
p=kmeans.predict(x)
print(p)
 
 
colors=list(map(lambda x:'#280073' if x==1 else '#FCAC8C',p))
plt.scatter(x[:,0],x[:,1],c=colors,marker='*',picker=True)
 
plt.show()
